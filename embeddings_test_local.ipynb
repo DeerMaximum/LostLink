{
 "cells": [
  {
   "metadata": {},
   "cell_type": "code",
   "source": [
    "import glob\n",
    "\n",
    "import faiss\n",
    "from langchain_community.docstore.in_memory import InMemoryDocstore\n",
    "from langchain_community.document_loaders import DirectoryLoader, TextLoader\n",
    "from langchain_community.document_loaders import PyPDFLoader\n",
    "from langchain_community.embeddings import LlamaCppEmbeddings\n",
    "from langchain_community.vectorstores import FAISS\n",
    "from langchain_text_splitters import RecursiveCharacterTextSplitter"
   ],
   "id": "672cee5aeea4c65d",
   "outputs": [],
   "execution_count": null
  },
  {
   "metadata": {},
   "cell_type": "markdown",
   "source": "## Load models",
   "id": "9bdd945c1c3aa0af"
  },
  {
   "metadata": {
    "collapsed": true
   },
   "cell_type": "code",
   "source": [
    "embeddings_model = LlamaCppEmbeddings(\n",
    "    model_path=\"models/mxbai-embed-large-v1.Q8_0.gguf\", \n",
    "    n_gpu_layers=-1 # Set to 0 for only cpu\n",
    ")"
   ],
   "id": "initial_id",
   "outputs": [],
   "execution_count": null
  },
  {
   "metadata": {},
   "cell_type": "markdown",
   "source": "## Load test pdf files",
   "id": "57ec22ecdd61a486"
  },
  {
   "metadata": {},
   "cell_type": "code",
   "source": [
    "pdf_paths = glob.glob(\"test-data/*.pdf\")\n",
    "\n",
    "pages = []\n",
    "\n",
    "for path in pdf_paths:\n",
    "    loader = PyPDFLoader(path)\n",
    "    async for page in loader.alazy_load():\n",
    "        pages.append(page)"
   ],
   "id": "887d0afea8948e0c",
   "outputs": [],
   "execution_count": null
  },
  {
   "metadata": {},
   "cell_type": "markdown",
   "source": "## Load test txt files",
   "id": "9248919e52f0f0a3"
  },
  {
   "metadata": {},
   "cell_type": "code",
   "source": [
    "loader = DirectoryLoader(path=\"test-data\", glob=\"*.txt\", loader_cls=TextLoader)\n",
    "pages = pages + loader.load()"
   ],
   "id": "c72d2745d02c2de0",
   "outputs": [],
   "execution_count": null
  },
  {
   "metadata": {},
   "cell_type": "markdown",
   "source": "## Split data in chunks",
   "id": "52b75d8319b986a3"
  },
  {
   "metadata": {},
   "cell_type": "code",
   "source": [
    "text_splitter = RecursiveCharacterTextSplitter(chunk_size=1000, chunk_overlap=0)\n",
    "splits = text_splitter.split_documents(pages)"
   ],
   "id": "47ffb6228e2a1a95",
   "outputs": [],
   "execution_count": null
  },
  {
   "metadata": {},
   "cell_type": "markdown",
   "source": "## Generate embeddings and save them in vector store",
   "id": "fb323eb8570c40f4"
  },
  {
   "metadata": {},
   "cell_type": "code",
   "source": [
    "index = faiss.IndexFlatL2(len(embeddings_model.embed_query(\"hello world\")))  #Get dimensions of embeddings\n",
    "\n",
    "vectorstore = FAISS(\n",
    "    embedding_function=embeddings_model,\n",
    "    index=index,\n",
    "    docstore=InMemoryDocstore(),\n",
    "    index_to_docstore_id={}\n",
    ")\n",
    "\n",
    "vectorstore.add_documents(documents=splits)"
   ],
   "id": "9e0b35e3a39ce03c",
   "outputs": [],
   "execution_count": null
  },
  {
   "metadata": {},
   "cell_type": "markdown",
   "source": [
    "## Ähnlichkeitssuche mit Query\n",
    "\n",
    "Score: Distanz zwischen Embeddings -> Je näher an 0 desto besser"
   ],
   "id": "183928f6743f8df1"
  },
  {
   "metadata": {},
   "cell_type": "code",
   "source": [
    "result = vectorstore.similarity_search_with_score(\"Datenhaltung\", k=4)\n",
    "\n",
    "for [doc, score] in result:\n",
    "    print(f\"Name: {doc.metadata['source']} - Seite: {doc.metadata['page']} - Score: {score}\")\n"
   ],
   "id": "376f6d538a6a405e",
   "outputs": [],
   "execution_count": null
  },
  {
   "metadata": {},
   "cell_type": "markdown",
   "source": [
    "## Ähnlichkeitssuche mit Dokument\n",
    "\n",
    "Score: Distanz zwischen Embeddings -> Je näher an 0 desto besser"
   ],
   "id": "9b012f25190d1606"
  },
  {
   "metadata": {},
   "cell_type": "code",
   "source": [
    "embedding = await embeddings_model.aembed_documents([splits[0].page_content]) #Generate embedding for first page in first document\n",
    "\n",
    "result = vectorstore.similarity_search_with_score_by_vector(embedding[0], k=4)\n",
    "\n",
    "for [doc, score] in result:\n",
    "    print(f\"Name: {doc.metadata['source']} - Seite: {doc.metadata['page']} - Score: {score}\")"
   ],
   "id": "f69e16f4a0377e1d",
   "outputs": [],
   "execution_count": null
  }
 ],
 "metadata": {
  "kernelspec": {
   "display_name": "Python 3",
   "language": "python",
   "name": "python3"
  },
  "language_info": {
   "codemirror_mode": {
    "name": "ipython",
    "version": 2
   },
   "file_extension": ".py",
   "mimetype": "text/x-python",
   "name": "python",
   "nbconvert_exporter": "python",
   "pygments_lexer": "ipython2",
   "version": "2.7.6"
  }
 },
 "nbformat": 4,
 "nbformat_minor": 5
}
