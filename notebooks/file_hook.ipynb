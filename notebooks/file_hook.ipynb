{
 "cells": [
  {
   "cell_type": "code",
   "id": "initial_id",
   "metadata": {
    "collapsed": true
   },
   "source": "from watchfiles import watch",
   "outputs": [],
   "execution_count": null
  },
  {
   "metadata": {},
   "cell_type": "markdown",
   "source": "## Define base path",
   "id": "77cb93339be04e25"
  },
  {
   "metadata": {},
   "cell_type": "code",
   "source": [
    "#BASE_PATH = r\"\\\\192.168.1.13\\tmp\" \n",
    "BASE_PATH = r\"D:\\tmp\\Neuer Ordner\""
   ],
   "id": "b30f1f24c43f538c",
   "outputs": [],
   "execution_count": null
  },
  {
   "metadata": {},
   "cell_type": "markdown",
   "source": "## Watch for file changes",
   "id": "22c83b779a040b74"
  },
  {
   "metadata": {},
   "cell_type": "code",
   "source": [
    "def map_change_type(type):\n",
    "    if type == 1:\n",
    "        return \"Added\"\n",
    "    if type == 2:\n",
    "        return \"Modified\"\n",
    "    if type == 3:\n",
    "        return \"Deleted\"\n",
    "    return \"Unknown\"\n",
    "\n",
    "for changes in watch(BASE_PATH, raise_interrupt=False):\n",
    "    for change in changes:\n",
    "        print(f\"Type: {map_change_type(change[0])} - {change[1]}\")"
   ],
   "id": "3aad37ac6b635fb4",
   "outputs": [],
   "execution_count": null
  }
 ],
 "metadata": {
  "kernelspec": {
   "display_name": "Python 3",
   "language": "python",
   "name": "python3"
  },
  "language_info": {
   "codemirror_mode": {
    "name": "ipython",
    "version": 2
   },
   "file_extension": ".py",
   "mimetype": "text/x-python",
   "name": "python",
   "nbconvert_exporter": "python",
   "pygments_lexer": "ipython2",
   "version": "2.7.6"
  }
 },
 "nbformat": 4,
 "nbformat_minor": 5
}
