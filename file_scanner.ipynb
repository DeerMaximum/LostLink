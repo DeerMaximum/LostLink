{
 "cells": [
  {
   "cell_type": "code",
   "id": "initial_id",
   "metadata": {
    "collapsed": true
   },
   "source": [
    "import os\n",
    "from stat import FILE_ATTRIBUTE_HIDDEN\n",
    "\n",
    "import xxhash"
   ],
   "outputs": [],
   "execution_count": null
  },
  {
   "metadata": {},
   "cell_type": "markdown",
   "source": "## Define base path",
   "id": "2d27d718443854ab"
  },
  {
   "metadata": {},
   "cell_type": "code",
   "source": [
    "#BASE_PATH = r\"\\\\192.168.1.13\\tmp\" \n",
    "BASE_PATH = r\"D:\\tmp\\Neuer Ordner\""
   ],
   "id": "ef25e747922085e8",
   "outputs": [],
   "execution_count": null
  },
  {
   "metadata": {},
   "cell_type": "markdown",
   "source": "## Define functions",
   "id": "a98e8000bb720593"
  },
  {
   "metadata": {},
   "cell_type": "code",
   "source": [
    "def scan(dir, ext):\n",
    "    subfolders, files = [], []\n",
    "\n",
    "    for f in os.scandir(dir):\n",
    "        if f.is_dir():\n",
    "            if not bool(f.stat().st_file_attributes & FILE_ATTRIBUTE_HIDDEN):\n",
    "                subfolders.append(f.path)\n",
    "        if f.is_file():\n",
    "            try:\n",
    "                if (len(ext) == 0 or os.path.splitext(f.name)[1].lower() in ext) and os.path.getsize(f) <= 1024 * 1024 * 50: # 50 MB\n",
    "                    files.append(f.path)\n",
    "            except OSError:\n",
    "                pass\n",
    "\n",
    "    for dir in list(subfolders):\n",
    "        f = scan(dir, ext)\n",
    "        files.extend(f)\n",
    "    return files\n",
    "\n",
    "def hash_file(path):\n",
    "    hasher = xxhash.xxh3_128()\n",
    "    with open(path, 'rb') as f:\n",
    "        hasher.update(f.read(4096))\n",
    "        \n",
    "    return hasher.hexdigest()\n",
    "    "
   ],
   "id": "cf50e415bd6ea06",
   "outputs": [],
   "execution_count": null
  },
  {
   "metadata": {},
   "cell_type": "markdown",
   "source": "## Scan and hash all documents in a folder",
   "id": "6de48628913c9095"
  },
  {
   "metadata": {},
   "cell_type": "code",
   "source": [
    "test_path = \"O:\\\\Nextcloud\"\n",
    "files = scan(test_path, [\".pdf\", \".docx\", \".txt\", \".pptx\"])\n",
    "for f in files:\n",
    "    hash_file(f)\n",
    "    \n",
    "len(files)"
   ],
   "id": "440dc46f000b0d2d",
   "outputs": [],
   "execution_count": null
  },
  {
   "metadata": {},
   "cell_type": "markdown",
   "source": "## Setup test \"DB\"",
   "id": "187fde1d59b9a8e6"
  },
  {
   "metadata": {},
   "cell_type": "code",
   "source": "mem_db : dict[str,str]  = {} # hash+path / path",
   "id": "3d9e23738b8ce205",
   "outputs": [],
   "execution_count": null
  },
  {
   "metadata": {},
   "cell_type": "markdown",
   "source": "## Get changes in directory",
   "id": "328caf46feedf1d6"
  },
  {
   "metadata": {},
   "cell_type": "code",
   "source": [
    "files = scan(BASE_PATH, [])\n",
    "\n",
    "added_paths = []\n",
    "\n",
    "for f in files:\n",
    "    file_hash = hash_file(f)\n",
    "    \n",
    "    path = mem_db.get(file_hash + f)\n",
    "    \n",
    "    if not path:\n",
    "        added_paths.append(f) \n",
    "        mem_db[file_hash + f] = f\n",
    "    \n",
    "to_remove = list( set(mem_db.values()) - set(files))\n",
    "swapped_db =  {val:key for key, val in mem_db.items()}\n",
    "\n",
    "for f in to_remove:\n",
    "    mem_db.pop(swapped_db[f])\n",
    "\n",
    "if len(added_paths) > 0:\n",
    "    print(\"Added paths:\")\n",
    "    for p in added_paths:\n",
    "        print(f\"\\t {p}\")\n",
    "\n",
    "if len(to_remove) > 0:  \n",
    "    print(\"Removed paths:\")\n",
    "    for p in to_remove:\n",
    "        print(f\"\\t {p}\")\n",
    "\n",
    "if len(added_paths) > 0 or  len(to_remove) > 0:\n",
    "    print()"
   ],
   "id": "e01029c81b9fd5ea",
   "outputs": [],
   "execution_count": null
  }
 ],
 "metadata": {
  "kernelspec": {
   "display_name": "Python 3",
   "language": "python",
   "name": "python3"
  },
  "language_info": {
   "codemirror_mode": {
    "name": "ipython",
    "version": 2
   },
   "file_extension": ".py",
   "mimetype": "text/x-python",
   "name": "python",
   "nbconvert_exporter": "python",
   "pygments_lexer": "ipython2",
   "version": "2.7.6"
  }
 },
 "nbformat": 4,
 "nbformat_minor": 5
}
